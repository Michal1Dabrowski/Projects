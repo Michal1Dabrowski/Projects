{
 "cells": [
  {
   "cell_type": "markdown",
   "metadata": {},
   "source": [
    "Kod służy do pobierania kolejnych wydań Kuriera Warszawskiego ze strony Uniwersytetu Warszawskiego za pomocą biblioteki Selenium"
   ]
  },
  {
   "cell_type": "code",
   "execution_count": null,
   "metadata": {},
   "outputs": [],
   "source": [
    "pip install selenium"
   ]
  },
  {
   "cell_type": "code",
   "execution_count": 3,
   "metadata": {},
   "outputs": [],
   "source": [
    "from selenium.webdriver.common.by import By\n",
    "import time\n",
    "from selenium import webdriver\n",
    "import urllib.request\n",
    "from bs4 import BeautifulSoup\n",
    "from time import sleep"
   ]
  },
  {
   "cell_type": "code",
   "execution_count": 4,
   "metadata": {},
   "outputs": [],
   "source": [
    "options = webdriver.ChromeOptions()\n",
    "options.add_argument('headless')\n",
    "options.add_argument('--disable-infobars')\n",
    "options.add_argument('--disable-dev-shm-usage')\n",
    "options.add_argument('--no-sandbox')\n",
    "options.add_argument('--remote-debugging-port=9222')"
   ]
  },
  {
   "cell_type": "code",
   "execution_count": 5,
   "metadata": {},
   "outputs": [],
   "source": [
    "BASE_URL = 'https://crispa.uw.edu.pl'\n",
    "\n",
    "def get_page(page, num_page, base_url=BASE_URL, options=options):\n",
    "  for x in range(num_page):\n",
    "    driver = webdriver.Chrome(options=options)\n",
    "    driver.get(base_url + page)\n",
    "    sleep(5)\n",
    "    soup = BeautifulSoup(driver.page_source)\n",
    "    url = base_url + [x['href'] for x in soup.find_all('a', {'class': 'download__button object-link ng-star-inserted'}) if '.pdf' in x['href']][0]\n",
    "    filename = url.split('=')[-1]\n",
    "    urllib.request.urlretrieve(url, filename)\n",
    "    print(f'Downloaded {filename}')\n",
    "    page = soup.find_all('a', {'_ngcontent-c4':'', 'class':'btn-link'})[1]['href']\n",
    "    driver.quit()"
   ]
  },
  {
   "cell_type": "code",
   "execution_count": null,
   "metadata": {},
   "outputs": [],
   "source": [
    "start_page = '/object/files/268216/display/Default'\n",
    "get_page(start_page,3)"
   ]
  }
 ],
 "metadata": {
  "kernelspec": {
   "display_name": "Python 3",
   "language": "python",
   "name": "python3"
  },
  "language_info": {
   "codemirror_mode": {
    "name": "ipython",
    "version": 3
   },
   "file_extension": ".py",
   "mimetype": "text/x-python",
   "name": "python",
   "nbconvert_exporter": "python",
   "pygments_lexer": "ipython3",
   "version": "3.12.0"
  }
 },
 "nbformat": 4,
 "nbformat_minor": 2
}
